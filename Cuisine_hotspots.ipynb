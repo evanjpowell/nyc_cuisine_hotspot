{
 "cells": [
  {
   "cell_type": "markdown",
   "id": "bd014682-8e5b-44ca-85f0-88a83ec170bb",
   "metadata": {},
   "source": [
    "# Finding Culinary Hotspots in NYC by Cuisine\n",
    "(description)"
   ]
  },
  {
   "cell_type": "markdown",
   "id": "64f307c5-7444-47a7-985e-3b4cf62c5136",
   "metadata": {
    "jp-MarkdownHeadingCollapsed": true
   },
   "source": [
    "# 1. Library Installations and Imports"
   ]
  },
  {
   "cell_type": "code",
   "execution_count": null,
   "id": "67409e03-9fd2-4caf-ab74-99e893aae822",
   "metadata": {},
   "outputs": [],
   "source": [
    "!pip install pandas \n",
    "!pip install sodapy\n",
    "!pip install geopandas\n",
    "!pip install folium matplotlib mapclassify\n",
    "!pip install geodatasets\n",
    "!pip install python-dotenv"
   ]
  },
  {
   "cell_type": "code",
   "execution_count": 1,
   "id": "21f99721-19dd-439e-8140-ea9c87b935dc",
   "metadata": {},
   "outputs": [],
   "source": [
    "import pandas as pd\n",
    "from sodapy import Socrata\n",
    "from dotenv import load_dotenv, dotenv_values\n",
    "import os"
   ]
  },
  {
   "cell_type": "code",
   "execution_count": 70,
   "id": "d7a25a8e-b9cc-447f-a1f9-061a15e2af43",
   "metadata": {},
   "outputs": [],
   "source": [
    "load_dotenv(dotenv_path=\".env\", override=True)\n",
    "app_token = os.getenv(\"APP_TOKEN\")"
   ]
  },
  {
   "cell_type": "markdown",
   "id": "0789e3db-ecba-49af-82f5-4fae79e2e918",
   "metadata": {
    "jp-MarkdownHeadingCollapsed": true
   },
   "source": [
    "# 2. Importing DOHMH Data"
   ]
  },
  {
   "cell_type": "code",
   "execution_count": 73,
   "id": "1386ed27-6b76-4157-96f0-0508333c4516",
   "metadata": {},
   "outputs": [],
   "source": [
    "nyc_client = Socrata(\"data.cityofnewyork.us\", app_token)"
   ]
  },
  {
   "cell_type": "code",
   "execution_count": 91,
   "id": "9da281c2-a318-4a70-b27d-8a3f4c09cb64",
   "metadata": {},
   "outputs": [],
   "source": [
    "def get_resto_data(client, batch_size=10000):\n",
    "    \"\"\"retrieves the entire dataset\"\"\"\n",
    "    results = []\n",
    "    this_batch = client.get(\"43nn-pn8j\", limit=batch_size)\n",
    "    while len(this_batch) > (batch_size - 1):\n",
    "        results += this_batch\n",
    "        this_batch = client.get(\"43nn-pn8j\", limit=batch_size, offset=len(results))\n",
    "        print(str(len(results)) + \" entries\")\n",
    "    results += this_batch\n",
    "    results_df = pd.DataFrame.from_records(results)\n",
    "    return results_df"
   ]
  },
  {
   "cell_type": "code",
   "execution_count": 93,
   "id": "1f175401-91ee-4dfc-93b2-9ec49e51fe81",
   "metadata": {},
   "outputs": [
    {
     "name": "stdout",
     "output_type": "stream",
     "text": [
      "10000 entries\n",
      "20000 entries\n",
      "30000 entries\n",
      "40000 entries\n",
      "50000 entries\n",
      "60000 entries\n",
      "70000 entries\n",
      "80000 entries\n",
      "90000 entries\n",
      "100000 entries\n",
      "110000 entries\n",
      "120000 entries\n",
      "130000 entries\n",
      "140000 entries\n",
      "150000 entries\n",
      "160000 entries\n",
      "170000 entries\n",
      "180000 entries\n",
      "190000 entries\n",
      "200000 entries\n",
      "210000 entries\n",
      "220000 entries\n",
      "230000 entries\n",
      "240000 entries\n",
      "250000 entries\n",
      "260000 entries\n",
      "270000 entries\n",
      "280000 entries\n"
     ]
    }
   ],
   "source": [
    "results_df = get_resto_data(nyc_client)"
   ]
  },
  {
   "cell_type": "code",
   "execution_count": 97,
   "id": "e9c7511a-30e5-4a52-9741-ab7218a799e0",
   "metadata": {},
   "outputs": [],
   "source": [
    "def dict_cuisines(resto_df):\n",
    "    \"\"\"returns a dict of every cuisine in the database\"\"\"\n",
    "    cuisines = {}\n",
    "    for index,row in resto_df.iterrows():\n",
    "        if row['cuisine_description'] in cuisines:\n",
    "            cuisines[row['cuisine_description']] += 1\n",
    "        else:\n",
    "            cuisines[row['cuisine_description']] = 1\n",
    "\n",
    "    return cuisines"
   ]
  },
  {
   "cell_type": "code",
   "execution_count": 101,
   "id": "c4298793-7d56-4586-a5d3-6f80329eea73",
   "metadata": {},
   "outputs": [],
   "source": [
    "cu_dict = dict_cuisines(results_df)"
   ]
  },
  {
   "cell_type": "code",
   "execution_count": null,
   "id": "b914c1de-e608-47a1-9618-1eb865934575",
   "metadata": {},
   "outputs": [],
   "source": []
  }
 ],
 "metadata": {
  "kernelspec": {
   "display_name": "Python [conda env:base] *",
   "language": "python",
   "name": "conda-base-py"
  },
  "language_info": {
   "codemirror_mode": {
    "name": "ipython",
    "version": 3
   },
   "file_extension": ".py",
   "mimetype": "text/x-python",
   "name": "python",
   "nbconvert_exporter": "python",
   "pygments_lexer": "ipython3",
   "version": "3.11.7"
  }
 },
 "nbformat": 4,
 "nbformat_minor": 5
}
